{
  "nbformat": 4,
  "nbformat_minor": 0,
  "metadata": {
    "colab": {
      "name": "conditional_and_loop.ipynb",
      "provenance": [],
      "collapsed_sections": []
    },
    "kernelspec": {
      "name": "python3",
      "display_name": "Python 3"
    },
    "language_info": {
      "name": "python"
    }
  },
  "cells": [
    {
      "cell_type": "markdown",
      "source": [
        "## Conditional\n",
        "- f berfungsi untuk mengubah variabel di dalam kurung kurawal menjadi string"
      ],
      "metadata": {
        "id": "X0FIHy2MVNXp"
      }
    },
    {
      "cell_type": "code",
      "execution_count": 38,
      "metadata": {
        "colab": {
          "base_uri": "https://localhost:8080/"
        },
        "id": "r4QGAe5QTIVw",
        "outputId": "1573f6ca-07d7-4671-d590-6992430d3d96"
      },
      "outputs": [
        {
          "output_type": "stream",
          "name": "stdout",
          "text": [
            "29 lebih besar dari 30\n"
          ]
        }
      ],
      "source": [
        "angka = 29\n",
        "print(f'{angka} lebih besar dari 30')"
      ]
    },
    {
      "cell_type": "code",
      "source": [
        "True"
      ],
      "metadata": {
        "colab": {
          "base_uri": "https://localhost:8080/"
        },
        "id": "XYOlMQhKV1OG",
        "outputId": "7faf038f-2791-4b65-8dfb-637ee3864b77"
      },
      "execution_count": 39,
      "outputs": [
        {
          "output_type": "execute_result",
          "data": {
            "text/plain": [
              "True"
            ]
          },
          "metadata": {},
          "execution_count": 39
        }
      ]
    },
    {
      "cell_type": "code",
      "source": [
        "False"
      ],
      "metadata": {
        "colab": {
          "base_uri": "https://localhost:8080/"
        },
        "id": "evNBD8OdX5Tu",
        "outputId": "fa12b5e7-1cfe-4c37-8d87-bd1317bb4858"
      },
      "execution_count": 40,
      "outputs": [
        {
          "output_type": "execute_result",
          "data": {
            "text/plain": [
              "False"
            ]
          },
          "metadata": {},
          "execution_count": 40
        }
      ]
    },
    {
      "cell_type": "code",
      "source": [
        "number = 46\n",
        "if True:\n",
        "  print(f'{number} lebih besar dari 30')"
      ],
      "metadata": {
        "colab": {
          "base_uri": "https://localhost:8080/"
        },
        "id": "3EZ5FEmRX57P",
        "outputId": "83a8d86f-0052-4f5b-eec8-685af2980767"
      },
      "execution_count": 41,
      "outputs": [
        {
          "output_type": "stream",
          "name": "stdout",
          "text": [
            "46 lebih besar dari 30\n"
          ]
        }
      ]
    },
    {
      "cell_type": "code",
      "source": [
        "number = 30.1\n",
        "if number > 30:\n",
        "  print(f'{number} lebih besar dari 30')\n",
        "else:\n",
        "  print(f'{number} lebih kecil dari 30')"
      ],
      "metadata": {
        "colab": {
          "base_uri": "https://localhost:8080/"
        },
        "id": "1UdQg1QEYeB8",
        "outputId": "3573d3b4-ad09-498d-8661-302d9694b99c"
      },
      "execution_count": 42,
      "outputs": [
        {
          "output_type": "stream",
          "name": "stdout",
          "text": [
            "30.1 lebih besar dari 30\n"
          ]
        }
      ]
    },
    {
      "cell_type": "code",
      "source": [
        "angka = 15\n",
        "if angka%2 == 1:\n",
        "  print(f'{angka} adalah angka ganjil')\n",
        "else:\n",
        "  print(f'{angka} adalah angka genap')"
      ],
      "metadata": {
        "colab": {
          "base_uri": "https://localhost:8080/"
        },
        "id": "c49ipwOTZZG0",
        "outputId": "b6e4fec7-bb62-4f3b-fe33-e7b3e7da8b39"
      },
      "execution_count": 43,
      "outputs": [
        {
          "output_type": "stream",
          "name": "stdout",
          "text": [
            "15 adalah angka ganjil\n"
          ]
        }
      ]
    },
    {
      "cell_type": "code",
      "source": [
        "bahasa_pemrograman = ['python', 'java', 'javascript', 'golang']\n",
        "bahasa ='hmtl'\n",
        "\n",
        "if bahasa in bahasa_pemrograman:\n",
        "  print(f'{bahasa} ada dalama bahasa_pemrograman')\n",
        "else:\n",
        "  print(f'{bahasa} tidak ada dalam bahasa_pemrograman')"
      ],
      "metadata": {
        "colab": {
          "base_uri": "https://localhost:8080/"
        },
        "id": "ZEKODy-qaqeS",
        "outputId": "1a72398c-f22b-4e49-d704-0ff556f9ea62"
      },
      "execution_count": 44,
      "outputs": [
        {
          "output_type": "stream",
          "name": "stdout",
          "text": [
            "hmtl tidak ada dalam bahasa_pemrograman\n"
          ]
        }
      ]
    },
    {
      "cell_type": "code",
      "source": [
        "number = 35\n",
        "if number > 30:\n",
        "  print(f'{number} lebih besar dari 30')\n",
        "elif number == 30:\n",
        "  print(f'{number} sama dengan 30')\n",
        "else:\n",
        "  print(f'{number} lebih kecil dari 30')"
      ],
      "metadata": {
        "colab": {
          "base_uri": "https://localhost:8080/"
        },
        "id": "_JlHztIobwir",
        "outputId": "0c1eb1a1-aacd-4198-b62f-053e1e738f76"
      },
      "execution_count": 45,
      "outputs": [
        {
          "output_type": "stream",
          "name": "stdout",
          "text": [
            "35 lebih besar dari 30\n"
          ]
        }
      ]
    },
    {
      "cell_type": "code",
      "source": [
        "biodata = {'nama' : 'yuki', 'pekerjaan' : 'freshgraduate', 'usia' : 20}\n",
        "'usia' in biodata"
      ],
      "metadata": {
        "colab": {
          "base_uri": "https://localhost:8080/"
        },
        "id": "3HFh3AhEdD5y",
        "outputId": "62ad8ec6-0c09-48e7-a454-af6e964622be"
      },
      "execution_count": 46,
      "outputs": [
        {
          "output_type": "execute_result",
          "data": {
            "text/plain": [
              "True"
            ]
          },
          "metadata": {},
          "execution_count": 46
        }
      ]
    },
    {
      "cell_type": "code",
      "source": [
        "'yuki' in biodata.values()"
      ],
      "metadata": {
        "colab": {
          "base_uri": "https://localhost:8080/"
        },
        "id": "cgKzG2JPfRNs",
        "outputId": "16a83a91-9c63-4594-c6eb-0c5403283270"
      },
      "execution_count": 47,
      "outputs": [
        {
          "output_type": "execute_result",
          "data": {
            "text/plain": [
              "True"
            ]
          },
          "metadata": {},
          "execution_count": 47
        }
      ]
    },
    {
      "cell_type": "markdown",
      "source": [
        "### Nested IF"
      ],
      "metadata": {
        "id": "v381eoz3hv9o"
      }
    },
    {
      "cell_type": "code",
      "source": [
        "angka = 15\n",
        "if angka%2 == 1:\n",
        "  print(f'{angka} adalah angka ganjil')\n",
        "  if angka > 10:\n",
        "    print(f'{angka} lebih besar dari 10')\n",
        "  else:\n",
        "    print(f'{angka} lebih kecil dari 10')\n",
        "\n",
        "else:\n",
        "  print(f'{angka} adalah angka genap')"
      ],
      "metadata": {
        "colab": {
          "base_uri": "https://localhost:8080/"
        },
        "id": "HEOQdtDkfha2",
        "outputId": "e477d2d6-f931-4b02-a604-28cb5e4c4782"
      },
      "execution_count": 48,
      "outputs": [
        {
          "output_type": "stream",
          "name": "stdout",
          "text": [
            "15 adalah angka ganjil\n",
            "15 lebih besar dari 10\n"
          ]
        }
      ]
    },
    {
      "cell_type": "code",
      "source": [
        "nilai = 102\n",
        "if 85 <= nilai <=100:\n",
        "  print(f'{nilai} memiliki indeks A')\n",
        "elif 70 <= nilai < 85:\n",
        "  print(f'{nilai} memiliki indeks B')\n",
        "elif 50 <= nilai < 70:\n",
        "  print(f'{nilai} memiliki indeks C')\n",
        "elif 25 <= nilai < 50:\n",
        "  print(f'{nilai} memiliki indeks D')\n",
        "elif 0 <= nilai <25:\n",
        "  print(f'{nilai} memiliki indeks E')\n",
        "else:\n",
        "  print('nilai tidak ada')"
      ],
      "metadata": {
        "colab": {
          "base_uri": "https://localhost:8080/"
        },
        "id": "vhEpiDHHhEgd",
        "outputId": "bfcfd36c-5a72-48fd-fa01-fe3548360c41"
      },
      "execution_count": 53,
      "outputs": [
        {
          "output_type": "stream",
          "name": "stdout",
          "text": [
            "nilai tidak ada\n"
          ]
        }
      ]
    },
    {
      "cell_type": "markdown",
      "source": [
        "penulisan lebih simple dari case di atas:"
      ],
      "metadata": {
        "id": "nFgYxGgSmLft"
      }
    },
    {
      "cell_type": "code",
      "source": [
        "angka = int(input())\n",
        "if 0 <= angka <= 100:\n",
        "  if angka >= 85:\n",
        "    print('A')\n",
        "  elif angka >= 70:\n",
        "    print('B')\n",
        "  elif angka >= 50:\n",
        "    print('C')\n",
        "  elif angka >= 25:\n",
        "    print('D')\n",
        "  else:\n",
        "    print('E')\n",
        "else:\n",
        "  print('Angka tidak valid')"
      ],
      "metadata": {
        "colab": {
          "base_uri": "https://localhost:8080/"
        },
        "id": "v2f3y8fujFic",
        "outputId": "28f352e5-f9b7-49f9-a847-5ff2bcd92633"
      },
      "execution_count": 56,
      "outputs": [
        {
          "output_type": "stream",
          "name": "stdout",
          "text": [
            "71\n",
            "B\n"
          ]
        }
      ]
    },
    {
      "cell_type": "markdown",
      "source": [
        "### Looping\n",
        "- pastikan kondisinya bisa berubah menjadi false\n",
        "- update variable yg digunakan sebagai kondisi"
      ],
      "metadata": {
        "id": "Mu1Wdgdjmml_"
      }
    },
    {
      "cell_type": "code",
      "source": [
        "angka = 1"
      ],
      "metadata": {
        "id": "okg5febclQ1Z"
      },
      "execution_count": 57,
      "outputs": []
    },
    {
      "cell_type": "code",
      "source": [
        "angka = 2\n",
        "print(angka)"
      ],
      "metadata": {
        "colab": {
          "base_uri": "https://localhost:8080/"
        },
        "id": "lV9l9vFunowl",
        "outputId": "76feab32-290e-44bd-b461-3b2f6f6f31cf"
      },
      "execution_count": 58,
      "outputs": [
        {
          "output_type": "stream",
          "name": "stdout",
          "text": [
            "2\n"
          ]
        }
      ]
    },
    {
      "cell_type": "code",
      "source": [
        "angka = 3\n",
        "print(angka)"
      ],
      "metadata": {
        "colab": {
          "base_uri": "https://localhost:8080/"
        },
        "id": "Pe-MIaV5nsHy",
        "outputId": "319206b2-7670-43fd-f6ce-077e1910c205"
      },
      "execution_count": 59,
      "outputs": [
        {
          "output_type": "stream",
          "name": "stdout",
          "text": [
            "3\n"
          ]
        }
      ]
    },
    {
      "cell_type": "code",
      "source": [
        "angka = angka + 1\n",
        "print(angka)"
      ],
      "metadata": {
        "colab": {
          "base_uri": "https://localhost:8080/"
        },
        "id": "cIGGxUUGn6hF",
        "outputId": "bb8d1d37-7c0f-4db9-8bc4-942e0f885df4"
      },
      "execution_count": 64,
      "outputs": [
        {
          "output_type": "stream",
          "name": "stdout",
          "text": [
            "8\n"
          ]
        }
      ]
    },
    {
      "cell_type": "code",
      "source": [
        "i = 0\n",
        "while i < 5:\n",
        "  print(f'i = {i}, masih dalam while loop')\n",
        "  i = i +1"
      ],
      "metadata": {
        "colab": {
          "base_uri": "https://localhost:8080/"
        },
        "id": "uiIIUtfqoLKu",
        "outputId": "48f6c57c-0e94-4567-9ab8-0029699d1743"
      },
      "execution_count": 66,
      "outputs": [
        {
          "output_type": "stream",
          "name": "stdout",
          "text": [
            "i = 0, masih dalam while loop\n",
            "i = 1, masih dalam while loop\n",
            "i = 2, masih dalam while loop\n",
            "i = 3, masih dalam while loop\n",
            "i = 4, masih dalam while loop\n"
          ]
        }
      ]
    },
    {
      "cell_type": "code",
      "source": [
        "i = 1\n",
        "while i <= 10:\n",
        "  print(f'7 x {i} = {7*i}')\n",
        "  i += 1"
      ],
      "metadata": {
        "colab": {
          "base_uri": "https://localhost:8080/"
        },
        "id": "Go9sH_ztoaFN",
        "outputId": "3e330fa8-af0c-4ed2-8c52-a12b1a8a92c1"
      },
      "execution_count": 70,
      "outputs": [
        {
          "output_type": "stream",
          "name": "stdout",
          "text": [
            "7 x 1 = 7\n",
            "7 x 2 = 14\n",
            "7 x 3 = 21\n",
            "7 x 4 = 28\n",
            "7 x 5 = 35\n",
            "7 x 6 = 42\n",
            "7 x 7 = 49\n",
            "7 x 8 = 56\n",
            "7 x 9 = 63\n",
            "7 x 10 = 70\n"
          ]
        }
      ]
    },
    {
      "cell_type": "code",
      "source": [
        "# nested loop table perkalian\n",
        "# j x i\n",
        "i = 1\n",
        "j = 1\n",
        "while j <= 10:\n",
        "  while i <= 10:\n",
        "    print(f'{j} x {i} = {j*i}')\n",
        "    i += 1\n",
        "  print('*'*50)\n",
        "  j += 1\n",
        "  i = 1"
      ],
      "metadata": {
        "colab": {
          "base_uri": "https://localhost:8080/"
        },
        "id": "nSg7gk7tqkce",
        "outputId": "1f2b7e3e-c476-410e-b83e-bb1e00a378f8"
      },
      "execution_count": 68,
      "outputs": [
        {
          "output_type": "stream",
          "name": "stdout",
          "text": [
            "1 x 1 = 1\n",
            "1 x 2 = 2\n",
            "1 x 3 = 3\n",
            "1 x 4 = 4\n",
            "1 x 5 = 5\n",
            "1 x 6 = 6\n",
            "1 x 7 = 7\n",
            "1 x 8 = 8\n",
            "1 x 9 = 9\n",
            "1 x 10 = 10\n",
            "**************************************************\n",
            "2 x 1 = 2\n",
            "2 x 2 = 4\n",
            "2 x 3 = 6\n",
            "2 x 4 = 8\n",
            "2 x 5 = 10\n",
            "2 x 6 = 12\n",
            "2 x 7 = 14\n",
            "2 x 8 = 16\n",
            "2 x 9 = 18\n",
            "2 x 10 = 20\n",
            "**************************************************\n",
            "3 x 1 = 3\n",
            "3 x 2 = 6\n",
            "3 x 3 = 9\n",
            "3 x 4 = 12\n",
            "3 x 5 = 15\n",
            "3 x 6 = 18\n",
            "3 x 7 = 21\n",
            "3 x 8 = 24\n",
            "3 x 9 = 27\n",
            "3 x 10 = 30\n",
            "**************************************************\n",
            "4 x 1 = 4\n",
            "4 x 2 = 8\n",
            "4 x 3 = 12\n",
            "4 x 4 = 16\n",
            "4 x 5 = 20\n",
            "4 x 6 = 24\n",
            "4 x 7 = 28\n",
            "4 x 8 = 32\n",
            "4 x 9 = 36\n",
            "4 x 10 = 40\n",
            "**************************************************\n",
            "5 x 1 = 5\n",
            "5 x 2 = 10\n",
            "5 x 3 = 15\n",
            "5 x 4 = 20\n",
            "5 x 5 = 25\n",
            "5 x 6 = 30\n",
            "5 x 7 = 35\n",
            "5 x 8 = 40\n",
            "5 x 9 = 45\n",
            "5 x 10 = 50\n",
            "**************************************************\n",
            "6 x 1 = 6\n",
            "6 x 2 = 12\n",
            "6 x 3 = 18\n",
            "6 x 4 = 24\n",
            "6 x 5 = 30\n",
            "6 x 6 = 36\n",
            "6 x 7 = 42\n",
            "6 x 8 = 48\n",
            "6 x 9 = 54\n",
            "6 x 10 = 60\n",
            "**************************************************\n",
            "7 x 1 = 7\n",
            "7 x 2 = 14\n",
            "7 x 3 = 21\n",
            "7 x 4 = 28\n",
            "7 x 5 = 35\n",
            "7 x 6 = 42\n",
            "7 x 7 = 49\n",
            "7 x 8 = 56\n",
            "7 x 9 = 63\n",
            "7 x 10 = 70\n",
            "**************************************************\n",
            "8 x 1 = 8\n",
            "8 x 2 = 16\n",
            "8 x 3 = 24\n",
            "8 x 4 = 32\n",
            "8 x 5 = 40\n",
            "8 x 6 = 48\n",
            "8 x 7 = 56\n",
            "8 x 8 = 64\n",
            "8 x 9 = 72\n",
            "8 x 10 = 80\n",
            "**************************************************\n",
            "9 x 1 = 9\n",
            "9 x 2 = 18\n",
            "9 x 3 = 27\n",
            "9 x 4 = 36\n",
            "9 x 5 = 45\n",
            "9 x 6 = 54\n",
            "9 x 7 = 63\n",
            "9 x 8 = 72\n",
            "9 x 9 = 81\n",
            "9 x 10 = 90\n",
            "**************************************************\n",
            "10 x 1 = 10\n",
            "10 x 2 = 20\n",
            "10 x 3 = 30\n",
            "10 x 4 = 40\n",
            "10 x 5 = 50\n",
            "10 x 6 = 60\n",
            "10 x 7 = 70\n",
            "10 x 8 = 80\n",
            "10 x 9 = 90\n",
            "10 x 10 = 100\n",
            "**************************************************\n"
          ]
        }
      ]
    },
    {
      "cell_type": "code",
      "source": [
        "# break\n",
        "i = 1\n",
        "while i <= 10:\n",
        "  print(f'7 x {i} = {7*i}')\n",
        "  i += 1\n",
        "  if i == 5:\n",
        "    break"
      ],
      "metadata": {
        "colab": {
          "base_uri": "https://localhost:8080/"
        },
        "id": "R9oRWafDsELU",
        "outputId": "7182376c-d639-4d80-838d-3b671dfad216"
      },
      "execution_count": 71,
      "outputs": [
        {
          "output_type": "stream",
          "name": "stdout",
          "text": [
            "7 x 1 = 7\n",
            "7 x 2 = 14\n",
            "7 x 3 = 21\n",
            "7 x 4 = 28\n"
          ]
        }
      ]
    },
    {
      "cell_type": "code",
      "source": [
        "pesanan = []\n",
        "while True:\n",
        "  pesan = input('Masukkan pesanan anda : ')\n",
        "  if pesan == 'cukup':\n",
        "    break\n",
        "  pesanan.append(pesan)\n",
        "print(pesanan)"
      ],
      "metadata": {
        "colab": {
          "base_uri": "https://localhost:8080/"
        },
        "id": "Vtahw56htuar",
        "outputId": "40a442b0-496d-44ee-a610-d06d9e5add55"
      },
      "execution_count": 72,
      "outputs": [
        {
          "output_type": "stream",
          "name": "stdout",
          "text": [
            "Masukkan pesanan anda : es teh\n",
            "Masukkan pesanan anda : es jeruk\n",
            "Masukkan pesanan anda : mie ayam\n",
            "Masukkan pesanan anda : nasi uduk\n",
            "Masukkan pesanan anda : cap cay\n",
            "Masukkan pesanan anda : cukup\n",
            "['es teh', 'es jeruk', 'mie ayam', 'nasi uduk', 'cap cay']\n"
          ]
        }
      ]
    },
    {
      "cell_type": "code",
      "source": [
        "# continue\n",
        "\n",
        "i = 0\n",
        "while i <= 10:\n",
        "  i += 1\n",
        "  if i ==5:\n",
        "    continue\n",
        "  print(f'7 x {i} = {7*i}')"
      ],
      "metadata": {
        "colab": {
          "base_uri": "https://localhost:8080/"
        },
        "id": "9QgyowjDufLn",
        "outputId": "10b4d916-aac2-4ea5-c2e8-4fa137d0c269"
      },
      "execution_count": 75,
      "outputs": [
        {
          "output_type": "stream",
          "name": "stdout",
          "text": [
            "7 x 1 = 7\n",
            "7 x 2 = 14\n",
            "7 x 3 = 21\n",
            "7 x 4 = 28\n",
            "7 x 6 = 42\n",
            "7 x 7 = 49\n",
            "7 x 8 = 56\n",
            "7 x 9 = 63\n",
            "7 x 10 = 70\n",
            "7 x 11 = 77\n"
          ]
        }
      ]
    },
    {
      "cell_type": "markdown",
      "source": [
        "### For Loop"
      ],
      "metadata": {
        "id": "uh9gra0ZvqpN"
      }
    },
    {
      "cell_type": "code",
      "source": [
        "buah = ['pepaya', 'mangga', 'pisang', 'jambu']\n",
        "for item in buah:\n",
        "  print(f'{item} adalah item dalam list buah')"
      ],
      "metadata": {
        "colab": {
          "base_uri": "https://localhost:8080/"
        },
        "id": "9ML9XUQ9u4hy",
        "outputId": "70dfb480-1edb-4142-885e-ac90a2d653f2"
      },
      "execution_count": 78,
      "outputs": [
        {
          "output_type": "stream",
          "name": "stdout",
          "text": [
            "pepaya adalah item dalam list buah\n",
            "mangga adalah item dalam list buah\n",
            "pisang adalah item dalam list buah\n",
            "jambu adalah item dalam list buah\n"
          ]
        }
      ]
    },
    {
      "cell_type": "code",
      "source": [
        "i = 0\n",
        "buah = ['pepaya', 'mangga', 'pisang', 'jambu']\n",
        "while i < len(buah):\n",
        "  print(f'{buah[i]} adalah item dalam list buah')\n",
        "  i += 1"
      ],
      "metadata": {
        "colab": {
          "base_uri": "https://localhost:8080/"
        },
        "id": "0enxuxuMv2hv",
        "outputId": "da887c49-06c6-4f37-a369-235bfcb380de"
      },
      "execution_count": 82,
      "outputs": [
        {
          "output_type": "stream",
          "name": "stdout",
          "text": [
            "pepaya adalah item dalam list buah\n",
            "mangga adalah item dalam list buah\n",
            "pisang adalah item dalam list buah\n",
            "jambu adalah item dalam list buah\n"
          ]
        }
      ]
    },
    {
      "cell_type": "code",
      "source": [
        "for i in [1,2,3]:\n",
        "  print(f'{buah[i]} adalah item dalam list buah')"
      ],
      "metadata": {
        "colab": {
          "base_uri": "https://localhost:8080/"
        },
        "id": "kXW1WOAJwqZK",
        "outputId": "ebdd4c8e-e2c4-41be-a964-2b72be574f3a"
      },
      "execution_count": 86,
      "outputs": [
        {
          "output_type": "stream",
          "name": "stdout",
          "text": [
            "mangga adalah item dalam list buah\n",
            "pisang adalah item dalam list buah\n",
            "jambu adalah item dalam list buah\n"
          ]
        }
      ]
    },
    {
      "cell_type": "code",
      "source": [
        "for i in range(len(buah)):\n",
        "  print(f'{buah[i]} adalah item dalam list buah')"
      ],
      "metadata": {
        "colab": {
          "base_uri": "https://localhost:8080/"
        },
        "id": "skrxbsZmxW2F",
        "outputId": "951ec2d0-9124-422c-a388-166767d69d62"
      },
      "execution_count": 87,
      "outputs": [
        {
          "output_type": "stream",
          "name": "stdout",
          "text": [
            "pepaya adalah item dalam list buah\n",
            "mangga adalah item dalam list buah\n",
            "pisang adalah item dalam list buah\n",
            "jambu adalah item dalam list buah\n"
          ]
        }
      ]
    },
    {
      "cell_type": "code",
      "source": [
        "list(range(5))"
      ],
      "metadata": {
        "colab": {
          "base_uri": "https://localhost:8080/"
        },
        "id": "hIGBHG41yK5z",
        "outputId": "7dfc37e8-a201-46f6-e4a8-51af3a2f941f"
      },
      "execution_count": 90,
      "outputs": [
        {
          "output_type": "execute_result",
          "data": {
            "text/plain": [
              "[0, 1, 2, 3, 4]"
            ]
          },
          "metadata": {},
          "execution_count": 90
        }
      ]
    },
    {
      "cell_type": "code",
      "source": [
        "# tabel perkalian 7\n",
        "for i in range(1,11):\n",
        "  print(f'7 x {i} = {7*i}')"
      ],
      "metadata": {
        "colab": {
          "base_uri": "https://localhost:8080/"
        },
        "id": "4EECQtN3x3IH",
        "outputId": "9398e658-2795-469a-f289-98de58537c3a"
      },
      "execution_count": 91,
      "outputs": [
        {
          "output_type": "stream",
          "name": "stdout",
          "text": [
            "7 x 1 = 7\n",
            "7 x 2 = 14\n",
            "7 x 3 = 21\n",
            "7 x 4 = 28\n",
            "7 x 5 = 35\n",
            "7 x 6 = 42\n",
            "7 x 7 = 49\n",
            "7 x 8 = 56\n",
            "7 x 9 = 63\n",
            "7 x 10 = 70\n"
          ]
        }
      ]
    },
    {
      "cell_type": "code",
      "source": [
        "for j in range(1,11):\n",
        "  for i in range(1,11):\n",
        "    print(f'{j} x {i} = {j*i}')\n",
        "  print('*'*50)"
      ],
      "metadata": {
        "colab": {
          "base_uri": "https://localhost:8080/"
        },
        "id": "otBRT0ZKyexa",
        "outputId": "db719786-2d70-4de4-f207-f77966c5a6d5"
      },
      "execution_count": 92,
      "outputs": [
        {
          "output_type": "stream",
          "name": "stdout",
          "text": [
            "1 x 1 = 1\n",
            "1 x 2 = 2\n",
            "1 x 3 = 3\n",
            "1 x 4 = 4\n",
            "1 x 5 = 5\n",
            "1 x 6 = 6\n",
            "1 x 7 = 7\n",
            "1 x 8 = 8\n",
            "1 x 9 = 9\n",
            "1 x 10 = 10\n",
            "**************************************************\n",
            "2 x 1 = 2\n",
            "2 x 2 = 4\n",
            "2 x 3 = 6\n",
            "2 x 4 = 8\n",
            "2 x 5 = 10\n",
            "2 x 6 = 12\n",
            "2 x 7 = 14\n",
            "2 x 8 = 16\n",
            "2 x 9 = 18\n",
            "2 x 10 = 20\n",
            "**************************************************\n",
            "3 x 1 = 3\n",
            "3 x 2 = 6\n",
            "3 x 3 = 9\n",
            "3 x 4 = 12\n",
            "3 x 5 = 15\n",
            "3 x 6 = 18\n",
            "3 x 7 = 21\n",
            "3 x 8 = 24\n",
            "3 x 9 = 27\n",
            "3 x 10 = 30\n",
            "**************************************************\n",
            "4 x 1 = 4\n",
            "4 x 2 = 8\n",
            "4 x 3 = 12\n",
            "4 x 4 = 16\n",
            "4 x 5 = 20\n",
            "4 x 6 = 24\n",
            "4 x 7 = 28\n",
            "4 x 8 = 32\n",
            "4 x 9 = 36\n",
            "4 x 10 = 40\n",
            "**************************************************\n",
            "5 x 1 = 5\n",
            "5 x 2 = 10\n",
            "5 x 3 = 15\n",
            "5 x 4 = 20\n",
            "5 x 5 = 25\n",
            "5 x 6 = 30\n",
            "5 x 7 = 35\n",
            "5 x 8 = 40\n",
            "5 x 9 = 45\n",
            "5 x 10 = 50\n",
            "**************************************************\n",
            "6 x 1 = 6\n",
            "6 x 2 = 12\n",
            "6 x 3 = 18\n",
            "6 x 4 = 24\n",
            "6 x 5 = 30\n",
            "6 x 6 = 36\n",
            "6 x 7 = 42\n",
            "6 x 8 = 48\n",
            "6 x 9 = 54\n",
            "6 x 10 = 60\n",
            "**************************************************\n",
            "7 x 1 = 7\n",
            "7 x 2 = 14\n",
            "7 x 3 = 21\n",
            "7 x 4 = 28\n",
            "7 x 5 = 35\n",
            "7 x 6 = 42\n",
            "7 x 7 = 49\n",
            "7 x 8 = 56\n",
            "7 x 9 = 63\n",
            "7 x 10 = 70\n",
            "**************************************************\n",
            "8 x 1 = 8\n",
            "8 x 2 = 16\n",
            "8 x 3 = 24\n",
            "8 x 4 = 32\n",
            "8 x 5 = 40\n",
            "8 x 6 = 48\n",
            "8 x 7 = 56\n",
            "8 x 8 = 64\n",
            "8 x 9 = 72\n",
            "8 x 10 = 80\n",
            "**************************************************\n",
            "9 x 1 = 9\n",
            "9 x 2 = 18\n",
            "9 x 3 = 27\n",
            "9 x 4 = 36\n",
            "9 x 5 = 45\n",
            "9 x 6 = 54\n",
            "9 x 7 = 63\n",
            "9 x 8 = 72\n",
            "9 x 9 = 81\n",
            "9 x 10 = 90\n",
            "**************************************************\n",
            "10 x 1 = 10\n",
            "10 x 2 = 20\n",
            "10 x 3 = 30\n",
            "10 x 4 = 40\n",
            "10 x 5 = 50\n",
            "10 x 6 = 60\n",
            "10 x 7 = 70\n",
            "10 x 8 = 80\n",
            "10 x 9 = 90\n",
            "10 x 10 = 100\n",
            "**************************************************\n"
          ]
        }
      ]
    },
    {
      "cell_type": "code",
      "source": [
        ""
      ],
      "metadata": {
        "id": "xoCLNc5Byx3-"
      },
      "execution_count": null,
      "outputs": []
    }
  ]
}