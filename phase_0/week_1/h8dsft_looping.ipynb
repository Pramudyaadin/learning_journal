{
  "nbformat": 4,
  "nbformat_minor": 0,
  "metadata": {
    "colab": {
      "name": "h8dsft_looping.ipynb",
      "provenance": []
    },
    "kernelspec": {
      "name": "python3",
      "display_name": "Python 3"
    },
    "language_info": {
      "name": "python"
    }
  },
  "cells": [
    {
      "cell_type": "code",
      "execution_count": 24,
      "metadata": {
        "colab": {
          "base_uri": "https://localhost:8080/"
        },
        "id": "vk73BzLf12YG",
        "outputId": "899acf12-a423-4947-8766-b6516e390165"
      },
      "outputs": [
        {
          "output_type": "stream",
          "name": "stdout",
          "text": [
            "402 adalah bilangan genap\n",
            "984 adalah bilangan genap\n",
            "360 adalah bilangan genap\n",
            "408 adalah bilangan genap\n",
            "980 adalah bilangan genap\n",
            "544 adalah bilangan genap\n",
            "390 adalah bilangan genap\n",
            "984 adalah bilangan genap\n",
            "592 adalah bilangan genap\n",
            "236 adalah bilangan genap\n",
            "942 adalah bilangan genap\n",
            "386 adalah bilangan genap\n",
            "462 adalah bilangan genap\n",
            "418 adalah bilangan genap\n",
            "344 adalah bilangan genap\n",
            "236 adalah bilangan genap\n",
            "566 adalah bilangan genap\n",
            "978 adalah bilangan genap\n",
            "328 adalah bilangan genap\n",
            "162 adalah bilangan genap\n",
            "758 adalah bilangan genap\n",
            "918 adalah bilangan genap\n",
            "done\n"
          ]
        }
      ],
      "source": [
        "  numbers = [\n",
        "  951, 402, 984, 651, 360, 69, 408, 319, 601, 485, 980, 507, 725, 547, 544, 615, 83, 165, 141, 501, 263, 617, 865, 575, 219, 390, 984, 592, 236, 105, 942, 941, 386, 462, 47, 418, 907, 344, 236, 375, 823, 566, 597, 978, 328, 615, 953, 345, 399, 162, 758, 219, 918, 237, 412, 566, 826, 248, 866, 950, 626, 949\n",
        "  ]\n",
        "  for angka in numbers:\n",
        "      if angka%2 == 0:\n",
        "        print(f'{angka} adalah bilangan genap')\n",
        "        if angka == 918:\n",
        "          break\n",
        "      # else:\n",
        "      #   print(f'{angka} bilangan ganjil')\n",
        "  print('done')\n",
        "\n",
        "    \n"
      ]
    },
    {
      "cell_type": "code",
      "source": [
        ""
      ],
      "metadata": {
        "id": "BRwY7PY35HRh"
      },
      "execution_count": null,
      "outputs": []
    }
  ]
}